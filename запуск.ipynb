{
 "cells": [
  {
   "cell_type": "code",
   "execution_count": 66,
   "id": "30c5b953",
   "metadata": {},
   "outputs": [],
   "source": [
    "import toml\n",
    "import pandas as pd\n",
    "import os\n",
    "import shutil"
   ]
  },
  {
   "cell_type": "code",
   "execution_count": 71,
   "id": "de0a26c3",
   "metadata": {},
   "outputs": [],
   "source": [
    "class Case:\n",
    "    params_name =['rel',\n",
    "                  'time',\n",
    "                  'pr',\n",
    "                  'gv_v',\n",
    "                  'omega',\n",
    "                  'rel_v',\n",
    "                  'le',\n",
    "                  'sor',\n",
    "                  'bm',\n",
    "                  'l_sed'\n",
    "                 ]\n",
    "    \n",
    "    params_c_name =['le','sor','bm','l_sed']\n",
    "    run_name = 'hele-shaw'\n",
    "    path = './'\n",
    "    def get_folder_name(self):\n",
    "        return os.path.join(self.path,str(self.index))\n",
    "    def __init__(self,params,index):\n",
    "        self._params = params\n",
    "        self.index=index\n",
    "    def get_params(self):\n",
    "        return self._params\n",
    "    def get_config_params(self):\n",
    "        conf = {k:v for k,v in self._params.items() if not( k in self.params_c_name)}\n",
    "        conf['params_c'] = {k:v for k,v in self._params.items() if ( k in self.params_c_name)}\n",
    "        return conf\n",
    "    def save_config(self):\n",
    "        config = self.get_config_params()\n",
    "        file_name = os.path.join(self.get_folder_name(),'config.tmol')\n",
    "        \n",
    "        with open(file_name,'w') as f:\n",
    "            toml.dump(config,f)\n",
    "    def create_folder(self):\n",
    "        path = self.get_folder_name()\n",
    "        os.makedirs(path,exist_ok=True)\n",
    "        self.save_config()\n",
    "        shutil.copy(self.run_name,path)\n",
    "        "
   ]
  },
  {
   "cell_type": "code",
   "execution_count": 72,
   "id": "092ae7e7",
   "metadata": {},
   "outputs": [],
   "source": [
    "params = {\n",
    "'rel': 0.02,\n",
    "'time': 100000,\n",
    "'pr': 48,\n",
    "'gr_v': 2.00,\n",
    "'omega': 0.01,\n",
    "'rel_v':  0.15,\n",
    "'le': 5e-4,\n",
    "'sor': 8.8,\n",
    "'bm': 5.12,\n",
    "'l_sed': 32,\n",
    "}"
   ]
  },
  {
   "cell_type": "code",
   "execution_count": 73,
   "id": "28e9da62",
   "metadata": {},
   "outputs": [],
   "source": [
    "c  = Case(params,1)"
   ]
  },
  {
   "cell_type": "code",
   "execution_count": 74,
   "id": "d9edf9a3",
   "metadata": {},
   "outputs": [
    {
     "ename": "FileNotFoundError",
     "evalue": "[Errno 2] No such file or directory: 'hele-shaw'",
     "output_type": "error",
     "traceback": [
      "\u001b[0;31m---------------------------------------------------------------------------\u001b[0m",
      "\u001b[0;31mFileNotFoundError\u001b[0m                         Traceback (most recent call last)",
      "Cell \u001b[0;32mIn[74], line 1\u001b[0m\n\u001b[0;32m----> 1\u001b[0m \u001b[43mc\u001b[49m\u001b[38;5;241;43m.\u001b[39;49m\u001b[43mcreate_folder\u001b[49m\u001b[43m(\u001b[49m\u001b[43m)\u001b[49m\n",
      "Cell \u001b[0;32mIn[71], line 38\u001b[0m, in \u001b[0;36mCase.create_folder\u001b[0;34m(self)\u001b[0m\n\u001b[1;32m     36\u001b[0m os\u001b[38;5;241m.\u001b[39mmakedirs(path,exist_ok\u001b[38;5;241m=\u001b[39m\u001b[38;5;28;01mTrue\u001b[39;00m)\n\u001b[1;32m     37\u001b[0m \u001b[38;5;28mself\u001b[39m\u001b[38;5;241m.\u001b[39msave_config()\n\u001b[0;32m---> 38\u001b[0m \u001b[43mshutil\u001b[49m\u001b[38;5;241;43m.\u001b[39;49m\u001b[43mcopy\u001b[49m\u001b[43m(\u001b[49m\u001b[38;5;28;43mself\u001b[39;49m\u001b[38;5;241;43m.\u001b[39;49m\u001b[43mrun_name\u001b[49m\u001b[43m,\u001b[49m\u001b[43mpath\u001b[49m\u001b[43m)\u001b[49m\n",
      "File \u001b[0;32m/usr/lib/python3.9/shutil.py:418\u001b[0m, in \u001b[0;36mcopy\u001b[0;34m(src, dst, follow_symlinks)\u001b[0m\n\u001b[1;32m    416\u001b[0m \u001b[38;5;28;01mif\u001b[39;00m os\u001b[38;5;241m.\u001b[39mpath\u001b[38;5;241m.\u001b[39misdir(dst):\n\u001b[1;32m    417\u001b[0m     dst \u001b[38;5;241m=\u001b[39m os\u001b[38;5;241m.\u001b[39mpath\u001b[38;5;241m.\u001b[39mjoin(dst, os\u001b[38;5;241m.\u001b[39mpath\u001b[38;5;241m.\u001b[39mbasename(src))\n\u001b[0;32m--> 418\u001b[0m \u001b[43mcopyfile\u001b[49m\u001b[43m(\u001b[49m\u001b[43msrc\u001b[49m\u001b[43m,\u001b[49m\u001b[43m \u001b[49m\u001b[43mdst\u001b[49m\u001b[43m,\u001b[49m\u001b[43m \u001b[49m\u001b[43mfollow_symlinks\u001b[49m\u001b[38;5;241;43m=\u001b[39;49m\u001b[43mfollow_symlinks\u001b[49m\u001b[43m)\u001b[49m\n\u001b[1;32m    419\u001b[0m copymode(src, dst, follow_symlinks\u001b[38;5;241m=\u001b[39mfollow_symlinks)\n\u001b[1;32m    420\u001b[0m \u001b[38;5;28;01mreturn\u001b[39;00m dst\n",
      "File \u001b[0;32m/usr/lib/python3.9/shutil.py:264\u001b[0m, in \u001b[0;36mcopyfile\u001b[0;34m(src, dst, follow_symlinks)\u001b[0m\n\u001b[1;32m    262\u001b[0m     os\u001b[38;5;241m.\u001b[39msymlink(os\u001b[38;5;241m.\u001b[39mreadlink(src), dst)\n\u001b[1;32m    263\u001b[0m \u001b[38;5;28;01melse\u001b[39;00m:\n\u001b[0;32m--> 264\u001b[0m     \u001b[38;5;28;01mwith\u001b[39;00m \u001b[38;5;28;43mopen\u001b[39;49m\u001b[43m(\u001b[49m\u001b[43msrc\u001b[49m\u001b[43m,\u001b[49m\u001b[43m \u001b[49m\u001b[38;5;124;43m'\u001b[39;49m\u001b[38;5;124;43mrb\u001b[39;49m\u001b[38;5;124;43m'\u001b[39;49m\u001b[43m)\u001b[49m \u001b[38;5;28;01mas\u001b[39;00m fsrc, \u001b[38;5;28mopen\u001b[39m(dst, \u001b[38;5;124m'\u001b[39m\u001b[38;5;124mwb\u001b[39m\u001b[38;5;124m'\u001b[39m) \u001b[38;5;28;01mas\u001b[39;00m fdst:\n\u001b[1;32m    265\u001b[0m         \u001b[38;5;66;03m# macOS\u001b[39;00m\n\u001b[1;32m    266\u001b[0m         \u001b[38;5;28;01mif\u001b[39;00m _HAS_FCOPYFILE:\n\u001b[1;32m    267\u001b[0m             \u001b[38;5;28;01mtry\u001b[39;00m:\n",
      "\u001b[0;31mFileNotFoundError\u001b[0m: [Errno 2] No such file or directory: 'hele-shaw'"
     ]
    }
   ],
   "source": [
    "c.create_folder()"
   ]
  },
  {
   "cell_type": "code",
   "execution_count": null,
   "id": "edfe6d1e",
   "metadata": {},
   "outputs": [],
   "source": []
  },
  {
   "cell_type": "code",
   "execution_count": null,
   "id": "434fcc73",
   "metadata": {},
   "outputs": [],
   "source": []
  },
  {
   "cell_type": "code",
   "execution_count": null,
   "id": "5a4312f8",
   "metadata": {},
   "outputs": [],
   "source": []
  }
 ],
 "metadata": {
  "kernelspec": {
   "display_name": "Python 3 (ipykernel)",
   "language": "python",
   "name": "python3"
  },
  "language_info": {
   "codemirror_mode": {
    "name": "ipython",
    "version": 3
   },
   "file_extension": ".py",
   "mimetype": "text/x-python",
   "name": "python",
   "nbconvert_exporter": "python",
   "pygments_lexer": "ipython3",
   "version": "3.11.2"
  }
 },
 "nbformat": 4,
 "nbformat_minor": 5
}
